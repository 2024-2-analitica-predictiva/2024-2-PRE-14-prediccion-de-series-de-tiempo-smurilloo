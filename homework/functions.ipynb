{
 "cells": [
  {
   "cell_type": "code",
   "execution_count": 1,
   "metadata": {},
   "outputs": [],
   "source": [
    "import os\n",
    "\n",
    "import numpy as np  #  type: ignore\n",
    "import matplotlib.pyplot as plt  #  type: ignore\n",
    "import pandas as pd  #  type: ignore\n",
    "\n",
    "from sklearn.metrics import mean_squared_error, mean_absolute_error\n",
    "from statsmodels.tsa.stattools import acf, pacf  #  type: ignore\n",
    "from statsmodels.graphics.tsaplots import plot_acf, plot_pacf  #  type: ignore\n"
   ]
  },
  {
   "cell_type": "code",
   "execution_count": 2,
   "metadata": {},
   "outputs": [],
   "source": [
    "\n",
    "def load_data():\n",
    "    df = pd.read_csv(\"../files/input/sutter.csv\")\n",
    "    df = df.set_index(\"date\")\n",
    "    return df\n",
    "  \n",
    "  "
   ]
  },
  {
   "cell_type": "code",
   "execution_count": 3,
   "metadata": {},
   "outputs": [],
   "source": [
    "#pip install statsmodels"
   ]
  },
  {
   "cell_type": "code",
   "execution_count": null,
   "metadata": {},
   "outputs": [],
   "source": [
    "def plot_time_series(df, yt_col=\"yt_true\"):\n",
    "    \"\"\"Time series plot.\"\"\"\n",
    "\n",
    "    plt.figure(figsize=(12, 4))\n",
    "\n",
    "    # yt_real\n",
    "    plt.plot(df[yt_col], \".-k\", linewidth=0.5, label=yt_col)\n",
    "    plt.grid(color=\"lightgray\", linestyle=\"--\", linewidth=0.5)\n",
    "\n",
    "    cols = [col for col in df.columns if col.startswith(\"yt_pred\")]\n",
    "    colors = \"rbgcmy\"\n",
    "    for i, col in enumerate(cols):\n",
    "        plt.plot(df[col], \".-\", color=colors[i], linewidth=0.7, label=col)\n",
    "\n",
    "    # line division\n",
    "    plt.plot(\n",
    "        [len(df[yt_col]) - 24, len(df[yt_col]) - 24],\n",
    "        [min(df[yt_col]), max(df[yt_col])],\n",
    "        \"--\",\n",
    "        linewidth=2,\n",
    "    )\n",
    "\n",
    "    # format\n",
    "    plt.xticks(rotation=90)\n",
    "    plt.xticks(range(0, len(df[yt_col]), 12), df[yt_col].index[::12])\n",
    "    plt.yticks(fontsize=8)\n",
    "    plt.xticks(fontsize=8)\n",
    "    plt.legend()\n",
    "    plt.show()\n",
    "    \n",
    "    "
   ]
  },
  {
   "cell_type": "code",
   "execution_count": null,
   "metadata": {},
   "outputs": [],
   "source": []
  },
  {
   "cell_type": "code",
   "execution_count": null,
   "metadata": {},
   "outputs": [],
   "source": []
  }
 ],
 "metadata": {
  "kernelspec": {
   "display_name": "Python 3",
   "language": "python",
   "name": "python3"
  },
  "language_info": {
   "codemirror_mode": {
    "name": "ipython",
    "version": 3
   },
   "file_extension": ".py",
   "mimetype": "text/x-python",
   "name": "python",
   "nbconvert_exporter": "python",
   "pygments_lexer": "ipython3",
   "version": "3.12.5"
  }
 },
 "nbformat": 4,
 "nbformat_minor": 2
}
